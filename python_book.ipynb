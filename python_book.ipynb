{
 "cells": [
  {
   "cell_type": "code",
   "execution_count": 3,
   "metadata": {},
   "outputs": [
    {
     "name": "stdout",
     "output_type": "stream",
     "text": [
      "I am \\Ptyhon\\\n",
      "GPA = 4.0\n"
     ]
    }
   ],
   "source": [
    "print(\"I am \\\\Ptyhon\\\\\"+\"\\nGPA =\",\"4.0\")"
   ]
  },
  {
   "cell_type": "code",
   "execution_count": null,
   "metadata": {},
   "outputs": [],
   "source": [
    "d = 123456.65\n",
    "print(\"%-8s%15d\" % (\"%15d\",d))\n",
    "print(\"%-8s%15f\" % (\"%15f\",d))\n",
    "print(\"%-8s%15.2f\" % (\"%15.2f\",d))\n",
    "print(\"%-8s%-15d\" % (\"%-15d\",d))\n",
    "print(\"%-8s%-15f\" % (\"%-15f\",d))\n",
    "print(\"%-8s%-15.2f\" % (\"%-15.2f\",d))"
   ]
  },
  {
   "cell_type": "code",
   "execution_count": null,
   "metadata": {},
   "outputs": [],
   "source": [
    "mydata = [\"mook\",\"view\",\"Idea\"]\n",
    "print(mydata[0],mydata[1],mydata[2],end=\" -> \",sep=\":\")\n",
    "print(\"SEE YOU LATER\")"
   ]
  },
  {
   "cell_type": "code",
   "execution_count": null,
   "metadata": {},
   "outputs": [],
   "source": [
    "x = \"python\"\n",
    "y = \"Programming\"\n",
    "a = 1070.999\n",
    "b = 6.97"
   ]
  },
  {
   "cell_type": "code",
   "execution_count": null,
   "metadata": {},
   "outputs": [],
   "source": [
    "print(\"{}\".format(x))\n",
    "print(\"{:s}\".format(y))\n",
    "print(\"{} {}\".format(x,y))\n",
    "print(\"{0} {1}\".format(x,y))\n",
    "print(\"{1:s} by {0:s}\".format(x,y))\n",
    "print(\"{0:*>10s} {0:+^10s} {1:*^15}\".format(x,y))\n",
    "print(\"{0:*>10,.1f} {1:*>10,.2f}\".format(a,b))\n",
    "print(\"{0:>10,.1f} {1:*^10,.2f}\".format(a,b))"
   ]
  },
  {
   "cell_type": "code",
   "execution_count": null,
   "metadata": {},
   "outputs": [],
   "source": [
    "name = input(\"Enter your name >>> \")\n",
    "age = int(input(\"Enter your age >>> \"))\n",
    "weight = float(input(\"Enter your weight >>> \"))\n",
    "print(\"\\nName:\",name,\"\\nAge:\",age,\"years\",\"\\nWeight:\",weight,\"KG\")"
   ]
  },
  {
   "cell_type": "code",
   "execution_count": null,
   "metadata": {},
   "outputs": [],
   "source": [
    "sc1, sc2 = input(\"Enter your score:\").split()\n",
    "avg = (int(sc1) + int(sc2))/2\n",
    "print(\"Score avarage is: {:.2f}\".format(avg))\n"
   ]
  },
  {
   "cell_type": "code",
   "execution_count": null,
   "metadata": {},
   "outputs": [],
   "source": [
    "cal = input(\"Calculate score please enter number 1 >>> \")\n",
    "if cal == \"1\":\n",
    "    score = float(input(\"Enter your score: \"))\n",
    "    cal_score = (float(score)/35)*100\n",
    "    print(\"score = {:.1f} score \\nis {:.1f} %\".format(score,cal_score))\n",
    "print(\"see you later\")"
   ]
  },
  {
   "cell_type": "code",
   "execution_count": null,
   "metadata": {},
   "outputs": [],
   "source": [
    "# ****count 1 to (number)\n",
    "number = int(input(\"Enter your number -> \"))\n",
    "run = 1\n",
    "count = 0\n",
    "while run <= number:\n",
    "    count = count + run\n",
    "    run += 1\n",
    "print(\"Total from 1 to {} = {}\".format(number,count))\n"
   ]
  },
  {
   "cell_type": "code",
   "execution_count": null,
   "metadata": {},
   "outputs": [],
   "source": [
    "# ****Mini Random Game \n",
    "import random\n",
    "\n",
    "guess = random.randint(0,9)\n",
    "count = 1\n",
    "while True:\n",
    "    rannum = int(input(\"Enter number you want to guess: \"))\n",
    "    if rannum == guess:\n",
    "        print(\"!!!!That's right!!!\")\n",
    "        print(\"random number is\",guess)\n",
    "        break\n",
    "    else:\n",
    "        count += 1\n",
    "        if count < 4:\n",
    "            print(\"try a gain\")\n",
    "        else:\n",
    "            print(\"You wong more than 3 times\")\n",
    "            print(\"random number is\",guess)\n",
    "            break"
   ]
  },
  {
   "cell_type": "code",
   "execution_count": null,
   "metadata": {},
   "outputs": [],
   "source": [
    "\n",
    "# ****find avg score of all students\n",
    "student = int(input(\"Total student: \"))\n",
    "total = 0\n",
    "for i in range(1,student+1):\n",
    "    score = int(input(\"Socre of student number {} >>> \".format(i)))\n",
    "    total += score\n",
    "avg = float(total/student)\n",
    "print(\"Avarage score =\",avg)"
   ]
  },
  {
   "cell_type": "code",
   "execution_count": null,
   "metadata": {},
   "outputs": [],
   "source": [
    "\n",
    "# *****enter sub-password\n",
    "password = \"87654321\"\n",
    "# password = input(\"Enter password \")\n",
    "checkpw = password[0:len(password):2]\n",
    "while True:\n",
    "    pwin = input(\"Enter the password again\")\n",
    "    if pwin == checkpw:\n",
    "        print(\"Login success\")\n",
    "        break\n",
    "    else:\n",
    "        print(\"It's incorrect, Try again\") "
   ]
  },
  {
   "cell_type": "code",
   "execution_count": null,
   "metadata": {},
   "outputs": [],
   "source": [
    "# ****Check password\n",
    "password = [\"1234\",\"1111\"]\n",
    "pw = input(\"Your pasword => \")\n",
    "for data in password:\n",
    "    if data != pw:\n",
    "        pass\n",
    "    else:\n",
    "        print(\"found this password\")\n",
    "print(\"See you later\")"
   ]
  },
  {
   "cell_type": "code",
   "execution_count": null,
   "metadata": {},
   "outputs": [],
   "source": [
    "# ***count string\n",
    "text = input(\"Enter size of number you want to count: \")\n",
    "print(\"Len of number is {}\".format(len(text)))"
   ]
  },
  {
   "cell_type": "code",
   "execution_count": null,
   "metadata": {},
   "outputs": [],
   "source": [
    "# ***Decode password\n",
    "pw = input(\"Enter your password: \")\n",
    "encode = pw[0::2]\n",
    "print(\"Encode password is:\",encode)"
   ]
  },
  {
   "cell_type": "code",
   "execution_count": null,
   "metadata": {},
   "outputs": [],
   "source": [
    "# *** Check pass test and score test \n",
    "student_dic = {1:17,2:19,5:18,7:17,8:17,10:19}\n",
    "get_number = int(input(\"Enter toue number: \"))\n",
    "for i in student_dic.keys():\n",
    "    if i == get_number:\n",
    "        print(\"Congrat you pass the test. you're score =\",student_dic.get(i))\n",
    "        break\n",
    "else: \n",
    "    print(\"Sorry you arn't pass the test\")"
   ]
  },
  {
   "cell_type": "code",
   "execution_count": null,
   "metadata": {},
   "outputs": [],
   "source": []
  }
 ],
 "metadata": {
  "kernelspec": {
   "display_name": "Python 3.9.13 64-bit (windows store)",
   "language": "python",
   "name": "python3"
  },
  "language_info": {
   "codemirror_mode": {
    "name": "ipython",
    "version": 3
   },
   "file_extension": ".py",
   "mimetype": "text/x-python",
   "name": "python",
   "nbconvert_exporter": "python",
   "pygments_lexer": "ipython3",
   "version": "3.9.13"
  },
  "orig_nbformat": 4,
  "vscode": {
   "interpreter": {
    "hash": "23b4a3e8622309bcc6db3d5cc6eb73d60ab98d9ec23bad6a26b709981ccb403a"
   }
  }
 },
 "nbformat": 4,
 "nbformat_minor": 2
}
